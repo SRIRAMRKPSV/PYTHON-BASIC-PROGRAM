{
  "nbformat": 4,
  "nbformat_minor": 0,
  "metadata": {
    "colab": {
      "provenance": []
    },
    "kernelspec": {
      "name": "python3",
      "display_name": "Python 3"
    },
    "language_info": {
      "name": "python"
    }
  },
  "cells": [
    {
      "cell_type": "markdown",
      "source": [
        "#ASSIGNMENT_6"
      ],
      "metadata": {
        "id": "vdY1QyavkilW"
      }
    },
    {
      "cell_type": "markdown",
      "source": [
        "1. Write a Python Program to Display Fibonacci Sequence using Recursion ?\n",
        "\n"
      ],
      "metadata": {
        "id": "1EpUJjbWkikR"
      }
    },
    {
      "cell_type": "code",
      "execution_count": 1,
      "metadata": {
        "colab": {
          "base_uri": "https://localhost:8080/"
        },
        "id": "x5SoRxhokVZp",
        "outputId": "1021e169-06da-4a16-cc45-0c5a18bee35d"
      },
      "outputs": [
        {
          "output_type": "stream",
          "name": "stdout",
          "text": [
            "Enter the length of Series: 10\n",
            "0, 1, 3, 5, 8, 13, 21, 34, 55, 89, 144, 233, "
          ]
        }
      ],
      "source": [
        "def genFibonacci(n,a,b):\n",
        "    if n == 0:\n",
        "        return 1\n",
        "    else:\n",
        "        result = a+b\n",
        "        print(result, end=', ')\n",
        "        genFibonacci(n-1,b,result)\n",
        "in_num = int(input('Enter the length of Series: '))\n",
        "print('0, 1',end=', ')\n",
        "genFibonacci(in_num,1,2)"
      ]
    },
    {
      "cell_type": "markdown",
      "source": [
        "2. Write a Python Program to Find Factorial of a Number using Recursion ?\n"
      ],
      "metadata": {
        "id": "k0P-tawxk5OR"
      }
    },
    {
      "cell_type": "code",
      "source": [
        "def factorial(num):\n",
        "    if (num < 1):\n",
        "        return 1\n",
        "    else:\n",
        "        return num*factorial(num-1)\n",
        "num = int(input('Enter a number: '))\n",
        "value = factorial(num)\n",
        "print(f'The Factorial of {num} is {value}')"
      ],
      "metadata": {
        "colab": {
          "base_uri": "https://localhost:8080/"
        },
        "id": "_9EvF3zek6QJ",
        "outputId": "ee0ee814-9bb8-49b1-cb5c-8d63bc4f2e4a"
      },
      "execution_count": 2,
      "outputs": [
        {
          "output_type": "stream",
          "name": "stdout",
          "text": [
            "Enter a number: 4\n",
            "The Factorial of 4 is 24\n"
          ]
        }
      ]
    },
    {
      "cell_type": "markdown",
      "source": [
        "3. Write a Python Program to Calculate your Body Mass Index ?\n"
      ],
      "metadata": {
        "id": "BCBdcsjmlKSR"
      }
    },
    {
      "cell_type": "code",
      "source": [
        "def calculateBMI():\n",
        "    in_weight = eval(input('Enter your Weight(kgs): '))\n",
        "    in_height = eval(input('Enter your Height(mts): '))\n",
        "    calc_bmi = in_weight/pow(in_height,2)\n",
        "    if (calc_bmi < 18.5):\n",
        "        status = 'Underweight'\n",
        "    elif (calc_bmi >= 18.5 and calc_bmi < 24.9):\n",
        "        status = 'Healthy'\n",
        "    elif (calc_bmi >= 24.9 and calc_bmi < 30):\n",
        "        status = 'Overweight'\n",
        "    elif (calc_bmi >=30):\n",
        "        status = 'Suffering from Obesity'\n",
        "    print(f'Your\\'re BMI is {calc_bmi} and status is {status} ')\n",
        "calculateBMI()"
      ],
      "metadata": {
        "colab": {
          "base_uri": "https://localhost:8080/"
        },
        "id": "p33nNiholFHl",
        "outputId": "355f7f52-450b-4146-9173-99daf46e21ea"
      },
      "execution_count": 5,
      "outputs": [
        {
          "output_type": "stream",
          "name": "stdout",
          "text": [
            "Enter your Weight(kgs): 66\n",
            "Enter your Height(mts): 1.72\n",
            "Your're BMI is 22.30935640886966 and status is Healthy \n"
          ]
        }
      ]
    },
    {
      "cell_type": "markdown",
      "source": [
        "4. Write a Python Program to Calculate the Natural Logarithm of any Number ?\n"
      ],
      "metadata": {
        "id": "EDGvXH5klsNz"
      }
    },
    {
      "cell_type": "code",
      "source": [
        "import math\n",
        "def genNatLog():\n",
        "    in_num = eval(input(\"Enter a Number:\"))\n",
        "    print(math.log(in_num))\n",
        "\n",
        "genNatLog()"
      ],
      "metadata": {
        "colab": {
          "base_uri": "https://localhost:8080/"
        },
        "id": "80CFuY-dlR5K",
        "outputId": "d1689fdf-a050-44f6-8d6e-46f42e50a711"
      },
      "execution_count": 6,
      "outputs": [
        {
          "output_type": "stream",
          "name": "stdout",
          "text": [
            "Enter a Number:4\n",
            "1.3862943611198906\n"
          ]
        }
      ]
    },
    {
      "cell_type": "markdown",
      "source": [
        "5. Write a Python Program for Cube sum of first n Natural Numbers ?\n"
      ],
      "metadata": {
        "id": "A26ReS1Jl4Qa"
      }
    },
    {
      "cell_type": "code",
      "source": [
        "def cubeOfNaturalNumbers():\n",
        "    in_num = int(input(\"Enter the no of Natural Numbers: \"))\n",
        "    result = pow(((in_num * (in_num +1))/2),2)\n",
        "    print(f'The Cube Sum of First {in_num} Natural Numbers is {result}')\n",
        "\n",
        "cubeOfNaturalNumbers()"
      ],
      "metadata": {
        "colab": {
          "base_uri": "https://localhost:8080/"
        },
        "id": "VzYNbMHIlxYa",
        "outputId": "b9200fcb-d2f1-491a-b960-00d328d34413"
      },
      "execution_count": 8,
      "outputs": [
        {
          "output_type": "stream",
          "name": "stdout",
          "text": [
            "Enter the no of Natural Numbers: 8\n",
            "The Cube Sum of First 8 Natural Numbers is 1296.0\n"
          ]
        }
      ]
    },
    {
      "cell_type": "code",
      "source": [],
      "metadata": {
        "id": "omEYAZ5Nl65z"
      },
      "execution_count": null,
      "outputs": []
    }
  ]
}