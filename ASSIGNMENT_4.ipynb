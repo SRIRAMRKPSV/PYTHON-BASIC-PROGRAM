{
  "nbformat": 4,
  "nbformat_minor": 0,
  "metadata": {
    "colab": {
      "provenance": []
    },
    "kernelspec": {
      "name": "python3",
      "display_name": "Python 3"
    },
    "language_info": {
      "name": "python"
    }
  },
  "cells": [
    {
      "cell_type": "markdown",
      "source": [
        "#ASSIGNMENT_4"
      ],
      "metadata": {
        "id": "0SB2FRnWVJnA"
      }
    },
    {
      "cell_type": "markdown",
      "source": [
        "1. Write a Python Program to find LCM ?\n"
      ],
      "metadata": {
        "id": "0DKVwsL-VJlo"
      }
    },
    {
      "cell_type": "code",
      "execution_count": 1,
      "metadata": {
        "colab": {
          "base_uri": "https://localhost:8080/"
        },
        "id": "X5eKO2jvT3Wk",
        "outputId": "5a81f04b-ce50-4a08-9d71-5f2c989dca4e"
      },
      "outputs": [
        {
          "output_type": "stream",
          "name": "stdout",
          "text": [
            "The LCM of 3,6 is 6\n",
            "The LCM of 5,2 is 10\n",
            "The LCM of 5,100 is 100\n"
          ]
        }
      ],
      "source": [
        "def findTheLcm(x_term,y_term):\n",
        "    if x_term > y_term:\n",
        "        greater = x_term\n",
        "    else:\n",
        "        greater = x_term\n",
        "    while True:\n",
        "        if((greater%x_term == 0) and (greater%y_term == 0)):\n",
        "            lcm = greater\n",
        "            break\n",
        "        else:\n",
        "            greater +=1\n",
        "    print(f'The LCM of {x_term},{y_term} is {lcm}')\n",
        "\n",
        "findTheLcm(3,6)\n",
        "findTheLcm(5,2)\n",
        "findTheLcm(5,100)"
      ]
    },
    {
      "cell_type": "markdown",
      "source": [
        "2. Write a Python Program to find HCF ?\n"
      ],
      "metadata": {
        "id": "q7h1IZnOVaQi"
      }
    },
    {
      "cell_type": "code",
      "source": [
        "def findTheHcf(x_term,y_term):\n",
        "    if x_term>y_term:\n",
        "        smaller = y_term\n",
        "    else:\n",
        "        smaller = x_term\n",
        "    for ele in range(1,smaller+1):\n",
        "        if((x_term%ele == 0) and (y_term%ele == 0)):\n",
        "            hcf = ele\n",
        "    print(f'The HCF of {x_term},{y_term} is {hcf}')\n",
        "\n",
        "findTheHcf(6,12)\n",
        "findTheHcf(2,3)\n",
        "findTheHcf(10,23)"
      ],
      "metadata": {
        "colab": {
          "base_uri": "https://localhost:8080/"
        },
        "id": "8kodncS9VZP6",
        "outputId": "47981738-457f-4e9f-be66-78528f583fa2"
      },
      "execution_count": 2,
      "outputs": [
        {
          "output_type": "stream",
          "name": "stdout",
          "text": [
            "The HCF of 6,12 is 6\n",
            "The HCF of 2,3 is 1\n",
            "The HCF of 10,23 is 1\n"
          ]
        }
      ]
    },
    {
      "cell_type": "markdown",
      "source": [
        "3. Write a Python Program to Convert Decimal to Binary, Octal and Hexadecimal ?\n"
      ],
      "metadata": {
        "id": "AOIwTA3KVgQq"
      }
    },
    {
      "cell_type": "code",
      "source": [
        "def DecimalToOther():\n",
        "    num = int(input('Enter a Number: '))\n",
        "    print(f'Binary Number -> {bin(num)}')\n",
        "    print(f'Octal Number -> {oct(num)}')    \n",
        "    print(f'Hexadecimal Number -> {hex(num)}')    \n",
        "\n",
        "DecimalToOther()"
      ],
      "metadata": {
        "colab": {
          "base_uri": "https://localhost:8080/"
        },
        "id": "iYJUUh4wVfWk",
        "outputId": "26de8062-9353-49e0-9d55-296bc735a502"
      },
      "execution_count": 4,
      "outputs": [
        {
          "output_type": "stream",
          "name": "stdout",
          "text": [
            "Enter a Number: 12312574\n",
            "Binary Number -> 0b101110111101111111111110\n",
            "Octal Number -> 0o56757776\n",
            "Hexadecimal Number -> 0xbbdffe\n"
          ]
        }
      ]
    },
    {
      "cell_type": "markdown",
      "source": [
        "4. Write a Python Program to Find the ASCII value of a Character ?\n"
      ],
      "metadata": {
        "id": "eSn-KQfgVwh-"
      }
    },
    {
      "cell_type": "code",
      "source": [
        "def charToAscii():\n",
        "    char = input('Enter a Character: ')\n",
        "    if len(char) > 1:\n",
        "        print('Please Enter a Single Character')\n",
        "    else:\n",
        "        print(f'Ascii Character of {char} is {ord(char)}')\n",
        "\n",
        "charToAscii()"
      ],
      "metadata": {
        "colab": {
          "base_uri": "https://localhost:8080/"
        },
        "id": "1vdojgp1VoIw",
        "outputId": "b34db351-2e86-4ae4-ba42-3e52ac517fa0"
      },
      "execution_count": 6,
      "outputs": [
        {
          "output_type": "stream",
          "name": "stdout",
          "text": [
            "Enter a Character: #\n",
            "Ascii Character of # is 35\n"
          ]
        }
      ]
    },
    {
      "cell_type": "markdown",
      "source": [
        "5. Write a Python Program to Make a Simple Calculator with 4 Basic Mathematical operations ?\n"
      ],
      "metadata": {
        "id": "AalOXZ-kWDcT"
      }
    },
    {
      "cell_type": "code",
      "source": [
        "import operator\n",
        "\n",
        "ops = { \"+\": operator.add, \"-\": operator.sub, \"*\":operator.mul, \"/\":operator.truediv } \n",
        "\n",
        "print('Select a Arithmetic Operation: \\\n",
        "        \\n1.Addition(+)\\\n",
        "        \\n2.Division(-)\\\n",
        "        \\n2.Multiplication(*)\\\n",
        "        \\n4.Division(/)\\\n",
        "        \\n3.Stop(0)\\n')\n",
        "   \n",
        "\n",
        "while True:\n",
        "    operator = input('Enter a arithmetic operation -> ')\n",
        "    if operator == '0':\n",
        "        print(\"Program Stopped successfully\")\n",
        "        break\n",
        "    elif operator not in ['+','-','*','/']:\n",
        "        print(\"Please enter a valid operator\")\n",
        "    else:\n",
        "        num_1 = int(input('\\nEnter 1st Number: '))\n",
        "        num_2 = int(input('Enter 2nd Number: '))\n",
        "        print(f'{num_1}{operator}{num_2}={ops[operator](num_1,num_2)}\\n')"
      ],
      "metadata": {
        "colab": {
          "base_uri": "https://localhost:8080/"
        },
        "id": "0-KPWm6hV4CF",
        "outputId": "2faef636-7d2a-4d3d-df17-2989ec866fcd"
      },
      "execution_count": 7,
      "outputs": [
        {
          "output_type": "stream",
          "name": "stdout",
          "text": [
            "Select a Arithmetic Operation:         \n",
            "1.Addition(+)        \n",
            "2.Division(-)        \n",
            "2.Multiplication(*)        \n",
            "4.Division(/)        \n",
            "3.Stop(0)\n",
            "\n",
            "Enter a arithmetic operation -> +\n",
            "\n",
            "Enter 1st Number: 4\n",
            "Enter 2nd Number: 9\n",
            "4+9=13\n",
            "\n",
            "Enter a arithmetic operation -> ?\n",
            "Please enter a valid operator\n",
            "Enter a arithmetic operation -> /\n",
            "\n",
            "Enter 1st Number: 4\n",
            "Enter 2nd Number: 8\n",
            "4/8=0.5\n",
            "\n",
            "Enter a arithmetic operation -> *\n",
            "\n",
            "Enter 1st Number: 41\n",
            "Enter 2nd Number: 10\n",
            "41*10=410\n",
            "\n",
            "Enter a arithmetic operation -> -\n",
            "\n",
            "Enter 1st Number: 4\n",
            "Enter 2nd Number: 9\n",
            "4-9=-5\n",
            "\n",
            "Enter a arithmetic operation -> 0\n",
            "Program Stopped successfully\n"
          ]
        }
      ]
    },
    {
      "cell_type": "code",
      "source": [],
      "metadata": {
        "id": "Y5vhQkljWHM5"
      },
      "execution_count": null,
      "outputs": []
    }
  ]
}