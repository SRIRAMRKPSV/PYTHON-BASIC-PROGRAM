{
  "nbformat": 4,
  "nbformat_minor": 0,
  "metadata": {
    "colab": {
      "provenance": []
    },
    "kernelspec": {
      "name": "python3",
      "display_name": "Python 3"
    },
    "language_info": {
      "name": "python"
    }
  },
  "cells": [
    {
      "cell_type": "markdown",
      "source": [
        "ASSIGNMENT_16"
      ],
      "metadata": {
        "id": "-mUgUB2jPYMs"
      }
    },
    {
      "cell_type": "markdown",
      "source": [
        "1.Write a function that stutters a word as if someone is struggling to \n",
        "\n",
        "read it. The first two letters are repeated twice with an ellipsis ... and \n",
        "\n",
        "space after each, and then the word is pronounced with a question mark ?\n",
        "\n",
        "Examples: stutter(\"incredible\") ➞ \"in... in... incredible?\"\n",
        "\n",
        "stutter(\"enthusiastic\") ➞ \"en... en... enthusiastic?\"\n",
        "\n",
        "stutter(\"outstanding\") ➞ \"ou... ou... outstanding?\"\n",
        "\n",
        "Hint :- Assume all input is in lower case and at least two characters long.\n",
        "\n"
      ],
      "metadata": {
        "id": "XdwkZt_jPX7c"
      }
    },
    {
      "cell_type": "code",
      "execution_count": 1,
      "metadata": {
        "colab": {
          "base_uri": "https://localhost:8080/"
        },
        "id": "BTICiZ5pO3DQ",
        "outputId": "ded7eaa3-a65e-4d58-bd18-567f2d18aee2"
      },
      "outputs": [
        {
          "output_type": "stream",
          "name": "stdout",
          "text": [
            "Enter the Word :incrediable\n",
            "incrediable ➞ in... in... incrediable?\n",
            "Enter the Word :energy\n",
            "energy ➞ en... en... energy?\n",
            "Enter the Word :excelent\n",
            "excelent ➞ ex... ex... excelent?\n"
          ]
        }
      ],
      "source": [
        "def stutterWord():\n",
        "    in_string = input('Enter the Word :')\n",
        "    out_string = in_string.replace(in_string[0:2],((in_string[0:2]+'... ')*2)+ in_string[0:2])  +'?'\n",
        "    print(f'{in_string} ➞ {out_string}')\n",
        "\n",
        "for i in range(3):\n",
        "    stutterWord()"
      ]
    },
    {
      "cell_type": "markdown",
      "source": [
        "2.Create a function that takes an angle in radians and returns the corresponding angle in degrees rounded to one decimal place ?\n",
        "\n",
        "Examples: radians_to_degrees(1) ➞ 57.3\n",
        "\n",
        "radians_to_degrees(20) ➞ 1145.9\n",
        "\n",
        "radians_to_degrees(50) ➞ 2864.8\n",
        "\n"
      ],
      "metadata": {
        "id": "u1Yc-aGWR01L"
      }
    },
    {
      "cell_type": "code",
      "source": [
        "import math\n",
        "def radianToDegree():\n",
        "    in_num = int(input('Enter the angle in Radians: '))\n",
        "    out_num = (180/math.pi)*in_num\n",
        "    print(f'{in_num} radian(s) ➞ {out_num:.1f} degrees')\n",
        "\n",
        "for x in range(3):\n",
        "  radianToDegree()"
      ],
      "metadata": {
        "colab": {
          "base_uri": "https://localhost:8080/"
        },
        "id": "AgJGQpnWR0Fv",
        "outputId": "2ee8252b-4cc6-4ac3-e75e-b008161fca14"
      },
      "execution_count": 3,
      "outputs": [
        {
          "output_type": "stream",
          "name": "stdout",
          "text": [
            "Enter the angle in Radians: 1\n",
            "1 radian(s) ➞ 57.3 degrees\n",
            "Enter the angle in Radians: 20\n",
            "20 radian(s) ➞ 1145.9 degrees\n",
            "Enter the angle in Radians: 50\n",
            "50 radian(s) ➞ 2864.8 degrees\n"
          ]
        }
      ]
    },
    {
      "cell_type": "markdown",
      "source": [
        "3.In this challenge, establish if a given integer num is a Curzon number.\n",
        "\n",
        " If 1 plus 2 elevated to num is exactly divisible by 1 plus 2 multiplied \n",
        " \n",
        " by num, then num is a Curzon number. Given a non-negative integer num, \n",
        " \n",
        " implement a function that returns True if num is a Curzon number, or \n",
        " \n",
        " False otherwise.\n",
        "\n",
        "Examples: is_curzon(5) ➞ True # 2 ** 5 + 1 = 33 # 2 * 5 + 1 = 11 # 33 is a \n",
        "\n",
        "multiple of 11 is_curzon(10) ➞ False # 2 ** 10 + 1 = 1025 # 2 * 10 + 1 = \n",
        "\n",
        "21 # 1025 is not a multiple of 21 is_curzon(14) ➞ True # 2 ** 14 + 1 = \n",
        "\n",
        "16385 # 2 * 14 + 1 = 29 # 16385 is a multiple of 29\n",
        "\n"
      ],
      "metadata": {
        "id": "jxUk3viaSaVV"
      }
    },
    {
      "cell_type": "code",
      "source": [
        "def checkCurzon():\n",
        "    in_num = int(input(\"Enter a number: \"))\n",
        "    if (pow(2,in_num)+1)%((2*in_num)+1) == 0:\n",
        "        print(f'{in_num} is a Curzon Number')\n",
        "    else:\n",
        "        print(f'{in_num} is Not a Curzon Number')\n",
        "\n",
        "for x in range(4):\n",
        "    checkCurzon()"
      ],
      "metadata": {
        "colab": {
          "base_uri": "https://localhost:8080/"
        },
        "id": "5PC-TqvGSOzl",
        "outputId": "c1af26db-982c-4d7f-a7a4-0a8e051283ed"
      },
      "execution_count": 4,
      "outputs": [
        {
          "output_type": "stream",
          "name": "stdout",
          "text": [
            "Enter a number: 4\n",
            "4 is Not a Curzon Number\n",
            "Enter a number: 10\n",
            "10 is Not a Curzon Number\n",
            "Enter a number: 14\n",
            "14 is a Curzon Number\n",
            "Enter a number: 21\n",
            "21 is a Curzon Number\n"
          ]
        }
      ]
    },
    {
      "cell_type": "markdown",
      "source": [
        "4.Given the side length x find the area of a hexagon ?\n",
        "\n",
        "Examples: area_of_hexagon(1) ➞ 2.6\n",
        "\n",
        "area_of_hexagon(2) ➞ 10.4\n",
        "\n",
        "area_of_hexagon(3) ➞ 23.4\n",
        "\n"
      ],
      "metadata": {
        "id": "Mlz4WxmMS1De"
      }
    },
    {
      "cell_type": "code",
      "source": [
        "import math\n",
        "def areaOfHexagon():\n",
        "    in_num = int(input('Enter the side length of a Hexagon: '))\n",
        "    out_num = ((3*math.sqrt(3))/2)*(pow(in_num,2))\n",
        "    print(f'Area for Hexagon of sidelength {in_num} ➞ {out_num:.1f}')\n",
        "    \n",
        "for x in range(3):\n",
        "    areaOfHexagon()"
      ],
      "metadata": {
        "colab": {
          "base_uri": "https://localhost:8080/"
        },
        "id": "CSk2SS8wSs0F",
        "outputId": "cadc915d-c337-4920-d3d7-b31b1b66563a"
      },
      "execution_count": 5,
      "outputs": [
        {
          "output_type": "stream",
          "name": "stdout",
          "text": [
            "Enter the side length of a Hexagon: 1\n",
            "Area for Hexagon of sidelength 1 ➞ 2.6\n",
            "Enter the side length of a Hexagon: 3\n",
            "Area for Hexagon of sidelength 3 ➞ 23.4\n",
            "Enter the side length of a Hexagon: 6\n",
            "Area for Hexagon of sidelength 6 ➞ 93.5\n"
          ]
        }
      ]
    },
    {
      "cell_type": "markdown",
      "source": [
        "5.Create a function that returns a base-2 (binary) representation of a base-10 (decimal) string number. To convert is simple:\n",
        "\n",
        "((2) means base-2 and (10) means base-10)\n",
        "\n",
        "010101001(2) = 1 + 8 + 32 + 128.\n",
        "\n",
        "Going from right to left, the value of the most right bit is 1, now from that every bit to the left will be x2 the value, value of an 8 bit binary numbers are (256, 128, 64, 32, 16, 8, 4, 2, 1).\n",
        "\n",
        "Examples:\n",
        "\n",
        "binary(1) ➞ \"1\" # 1* 1 = 1 binary(5) ➞ \"101\" # 1 1 + 1 4 = 5 binary(10) ➞ \"1010\" # 1 2 + 1 8 = 10\n",
        "\n"
      ],
      "metadata": {
        "id": "_Fstll7rS7de"
      }
    },
    {
      "cell_type": "code",
      "source": [
        "def getBinary():\n",
        "    in_num = int(input(\"Enter a Number: \"))\n",
        "    out_num = bin(in_num).replace('0b','') \n",
        "    print(f'Binary of {in_num} ➞ {out_num}')\n",
        "\n",
        "for x in range(3):\n",
        "    getBinary()"
      ],
      "metadata": {
        "colab": {
          "base_uri": "https://localhost:8080/"
        },
        "id": "koyGfd1BS6pY",
        "outputId": "b1412c84-ba51-4e57-9f2e-f31b9488ab7f"
      },
      "execution_count": 6,
      "outputs": [
        {
          "output_type": "stream",
          "name": "stdout",
          "text": [
            "Enter a Number: 1\n",
            "Binary of 1 ➞ 1\n",
            "Enter a Number: 4\n",
            "Binary of 4 ➞ 100\n",
            "Enter a Number: 1010\n",
            "Binary of 1010 ➞ 1111110010\n"
          ]
        }
      ]
    },
    {
      "cell_type": "code",
      "source": [],
      "metadata": {
        "id": "snQX20ruTIQL"
      },
      "execution_count": null,
      "outputs": []
    }
  ]
}