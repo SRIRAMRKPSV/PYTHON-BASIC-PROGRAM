{
  "nbformat": 4,
  "nbformat_minor": 0,
  "metadata": {
    "colab": {
      "provenance": []
    },
    "kernelspec": {
      "name": "python3",
      "display_name": "Python 3"
    },
    "language_info": {
      "name": "python"
    }
  },
  "cells": [
    {
      "cell_type": "markdown",
      "source": [
        "#ASSIGNMENT_7"
      ],
      "metadata": {
        "id": "NRZb7f6nml5R"
      }
    },
    {
      "cell_type": "markdown",
      "source": [
        "1. Write a Python Program to find sum of Array ?\n"
      ],
      "metadata": {
        "id": "tusrDz2hml34"
      }
    },
    {
      "cell_type": "code",
      "execution_count": 4,
      "metadata": {
        "colab": {
          "base_uri": "https://localhost:8080/"
        },
        "id": "3LV-1MU_mWyj",
        "outputId": "cb2a17b2-2c3f-4e8c-8e51-81b7a3c73c43"
      },
      "outputs": [
        {
          "output_type": "stream",
          "name": "stdout",
          "text": [
            "Enter the Array: [1,2,3,4]\n",
            "The sum of [1, 2, 3, 4] is 10\n"
          ]
        }
      ],
      "source": [
        "def sumOfArray():\n",
        "    in_arr = eval(input(\"Enter the Array: \"))\n",
        "    print(f'The sum of {in_arr} is {sum(in_arr)}')\n",
        "\n",
        "sumOfArray()"
      ]
    },
    {
      "cell_type": "markdown",
      "source": [
        "2. Write a Python Program to find Largest element in an Array ?\n"
      ],
      "metadata": {
        "id": "f2LY8axjnc4l"
      }
    },
    {
      "cell_type": "code",
      "source": [
        "def largestElement():\n",
        "    in_arr = eval(input(\"Enter the Array: \"))\n",
        "    print(f\"The Largest Element in {in_arr} is {sorted(in_arr, reverse=True)[0]}\")\n",
        "    \n",
        "largestElement()"
      ],
      "metadata": {
        "colab": {
          "base_uri": "https://localhost:8080/"
        },
        "id": "84TVqgtAnb3b",
        "outputId": "a6f81857-5047-4c93-eced-1892c4dbe1ce"
      },
      "execution_count": 5,
      "outputs": [
        {
          "output_type": "stream",
          "name": "stdout",
          "text": [
            "Enter the Array: [3,4,6,8,9]\n",
            "The Largest Element in [3, 4, 6, 8, 9] is 9\n"
          ]
        }
      ]
    },
    {
      "cell_type": "markdown",
      "source": [
        "3. Write a Python Program for array rotation ?\n"
      ],
      "metadata": {
        "id": "R-w-S06bnksw"
      }
    },
    {
      "cell_type": "code",
      "source": [
        "def reverseOfArray():\n",
        "    in_arr = eval(input(\"Enter the Array: \"))\n",
        "    print(f\"The Reverse of Array {in_arr} is {in_arr[::-1]}\")\n",
        "    \n",
        "reverseOfArray()"
      ],
      "metadata": {
        "colab": {
          "base_uri": "https://localhost:8080/"
        },
        "id": "qsIJkMNpnjc1",
        "outputId": "9b33ee4e-1a22-43d8-b48b-00d5282c7f34"
      },
      "execution_count": 6,
      "outputs": [
        {
          "output_type": "stream",
          "name": "stdout",
          "text": [
            "Enter the Array: [1,2,4,5]\n",
            "The Reverse of Array [1, 2, 4, 5] is [5, 4, 2, 1]\n"
          ]
        }
      ]
    },
    {
      "cell_type": "markdown",
      "source": [
        "4. Write a Python Program to Split the array and add the first part to the end ?\n"
      ],
      "metadata": {
        "id": "R9BK1WsGny_w"
      }
    },
    {
      "cell_type": "code",
      "source": [
        "def sumOfSplits():\n",
        "    in_arr = eval(input(\"Enter the Array: \"))\n",
        "    print(f\"The Sum of First and Last Elements of Array {in_arr} is {in_arr[0]+in_arr[-1]}\")\n",
        "    \n",
        "sumOfSplits()"
      ],
      "metadata": {
        "colab": {
          "base_uri": "https://localhost:8080/"
        },
        "id": "Oy9_4nQCnyGL",
        "outputId": "0c1673ca-100c-4ed0-ea2d-c7f47f3ad85b"
      },
      "execution_count": 7,
      "outputs": [
        {
          "output_type": "stream",
          "name": "stdout",
          "text": [
            "Enter the Array: [7,8,9,8]\n",
            "The Sum of First and Last Elements of Array [7, 8, 9, 8] is 15\n"
          ]
        }
      ]
    },
    {
      "cell_type": "markdown",
      "source": [
        "5. Write a Python Program to check if given array is Monotonic ?\n"
      ],
      "metadata": {
        "id": "PNCwadFBoTIk"
      }
    },
    {
      "cell_type": "code",
      "source": [
        "def checkMonotonic():\n",
        "    in_arr = eval(input(\"Enter the Array: \"))\n",
        "    if(all(in_arr[i]<=in_arr[i+1] for i in range(len(in_arr)-1)) or all(in_arr[i]>=in_arr[i+1] for i in range(len(in_arr)-1))):\n",
        "        print(f'Array {in_arr} is Monotonic')\n",
        "    else:\n",
        "        print(f'Array {in_arr} is Not Monotonic')\n",
        "\n",
        "checkMonotonic()\n",
        "checkMonotonic()"
      ],
      "metadata": {
        "colab": {
          "base_uri": "https://localhost:8080/"
        },
        "id": "ZJtmJAN6oRyp",
        "outputId": "2cc030ba-ace3-43bc-e5e0-524f740ff9d8"
      },
      "execution_count": 9,
      "outputs": [
        {
          "output_type": "stream",
          "name": "stdout",
          "text": [
            "Enter the Array: [1,2,34,5]\n",
            "Array [1, 2, 34, 5] is Not Monotonic\n",
            "Enter the Array: 4,5,6,7,8\n",
            "Array (4, 5, 6, 7, 8) is Monotonic\n"
          ]
        }
      ]
    },
    {
      "cell_type": "code",
      "source": [],
      "metadata": {
        "id": "XQf8CY-voeuL"
      },
      "execution_count": 9,
      "outputs": []
    }
  ]
}