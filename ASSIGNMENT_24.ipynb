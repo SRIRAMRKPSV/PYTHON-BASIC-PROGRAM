{
  "nbformat": 4,
  "nbformat_minor": 0,
  "metadata": {
    "colab": {
      "provenance": []
    },
    "kernelspec": {
      "name": "python3",
      "display_name": "Python 3"
    },
    "language_info": {
      "name": "python"
    }
  },
  "cells": [
    {
      "cell_type": "markdown",
      "source": [
        "#ASSIGNMENT_24"
      ],
      "metadata": {
        "id": "8jU-tp40MZyY"
      }
    },
    {
      "cell_type": "markdown",
      "source": [
        "1.Create a function that takes an integer and returns a list from 1 to the given number, where:\n",
        "\n",
        "1.If the number can be divided evenly by 4, amplify it by 10 (i.e. return 10 times the number).\n",
        "\n",
        "2.If the number cannot be divided evenly by 4, simply return the number.\n",
        "\n",
        "Examples:\n",
        "\n",
        "amplify(4) ➞ [1, 2, 3, 40]\n",
        "\n",
        "amplify(3) ➞ [1, 2, 3]\n",
        "\n",
        "amplify(25) ➞ [1, 2, 3, 40, 5, 6, 7, 80, 9, 10, 11, 120, 13, 14, 15, 160, 17, 18, 19, 200, 21, 22, 23, 240, 25]\n",
        "\n",
        "Notes:\n",
        "\n",
        "1.The given integer will always be equal to or greater than 1.\n",
        "\n",
        "2.Include the number (see example above).\n",
        "\n",
        "3.To perform this problem with its intended purpose, try doing it with list\n",
        "\n"
      ],
      "metadata": {
        "id": "4TSkPIOoMZok"
      }
    },
    {
      "cell_type": "code",
      "execution_count": 1,
      "metadata": {
        "colab": {
          "base_uri": "https://localhost:8080/"
        },
        "id": "cF8uQgKGMYjQ",
        "outputId": "029b5f17-ee1f-499b-9ce2-7a81162d6cd6"
      },
      "outputs": [
        {
          "output_type": "stream",
          "name": "stdout",
          "text": [
            "4 ➞ [1, 2, 3, 40]\n",
            "3 ➞ [1, 2, 3]\n",
            "25 ➞ [1, 2, 3, 40, 5, 6, 7, 80, 9, 10, 11, 120, 13, 14, 15, 160, 17, 18, 19, 200, 21, 22, 23, 240, 25]\n"
          ]
        }
      ],
      "source": [
        "def amplify(in_num):\n",
        "    out_list = []\n",
        "    for ele in range(1,in_num+1):\n",
        "        if ele%4 == 0:\n",
        "            out_list.append(ele*10)\n",
        "        else:\n",
        "            out_list.append(ele)\n",
        "    print(f'{in_num} ➞ {out_list}')\n",
        "            \n",
        "amplify(4)\n",
        "amplify(3)\n",
        "amplify(25)"
      ]
    },
    {
      "cell_type": "markdown",
      "source": [
        "2.Create a function that takes a list of numbers and return the number that's unique.\n",
        "\n",
        "Examples:\n",
        "\n",
        "unique([3, 3, 3, 7, 3, 3]) ➞ 7\n",
        "\n",
        "unique([0, 0, 0.77, 0, 0]) ➞ 0.77\n",
        "\n",
        "unique([0, 1, 1, 1, 1, 1, 1, 1]) ➞ 0\n",
        "\n",
        "Notes:\n",
        "\n",
        "Test cases will always have exactly one unique number while all others are the same.\n"
      ],
      "metadata": {
        "id": "-n9pr752M1aq"
      }
    },
    {
      "cell_type": "code",
      "source": [
        "\n",
        "def unique(in_list):\n",
        "    out_num = ''\n",
        "    for ele in set(in_list):\n",
        "        if in_list.count(ele) == 1:\n",
        "            out_num = ele\n",
        "    print(f'{in_list} ➞ {out_num}')\n",
        "\n",
        "unique([3, 3, 3, 7, 3, 3])\n",
        "unique([0, 0, 0.77, 0, 0])\n",
        "unique([0, 1, 1, 1, 1, 1, 1, 1])"
      ],
      "metadata": {
        "colab": {
          "base_uri": "https://localhost:8080/"
        },
        "id": "vHUWxZeuMxUH",
        "outputId": "0a42ab38-0b85-4425-b538-3d48ac270ee8"
      },
      "execution_count": 2,
      "outputs": [
        {
          "output_type": "stream",
          "name": "stdout",
          "text": [
            "[3, 3, 3, 7, 3, 3] ➞ 7\n",
            "[0, 0, 0.77, 0, 0] ➞ 0.77\n",
            "[0, 1, 1, 1, 1, 1, 1, 1] ➞ 0\n"
          ]
        }
      ]
    },
    {
      "cell_type": "markdown",
      "source": [
        "3.Your task is to create a Circle constructor that creates a circle with a radius provided by an argument. The circles constructed must have two getters getArea() (PIr^2) and getPerimeter() (2PI*r) which give both respective areas and perimeter (circumference). For help with this class, I have provided you with a Rectangle constructor which you can use as a base example ?\n",
        "\n",
        "Examples:\n",
        "\n",
        "circy = Circle(11)\n",
        "\n",
        "circy.getArea()\n",
        "\n",
        "# Should return 380.132711084365 circy = Circle(4.44)\n",
        "\n",
        "circy.getPerimeter()\n",
        "\n",
        "# Should return 27.897342763877365\n",
        "\n",
        "Notes:\n",
        "\n",
        "Round results up to the nearest integer.\n",
        "\n"
      ],
      "metadata": {
        "id": "HWuctR-iNj3A"
      }
    },
    {
      "cell_type": "code",
      "source": [
        "import math\n",
        "\n",
        "class Circle:\n",
        "    def __init__(self, radius):\n",
        "        self.radius = radius\n",
        "    def getArea(self):\n",
        "        print(f'Radius ➞ {round(math.pi*self.radius*self.radius)}')\n",
        "    def getPerimeter(self):\n",
        "        print(f'Perimeter ➞ {round(2*math.pi*self.radius)}')\n",
        "    \n",
        "circy = Circle(11)\n",
        "circy.getArea()\n",
        "\n",
        "circy = Circle(4.44)\n",
        "circy.getPerimeter()"
      ],
      "metadata": {
        "colab": {
          "base_uri": "https://localhost:8080/"
        },
        "id": "3UxYMIc_M8zW",
        "outputId": "f132b89e-c752-48ef-cb54-7ba27e191b93"
      },
      "execution_count": 3,
      "outputs": [
        {
          "output_type": "stream",
          "name": "stdout",
          "text": [
            "Radius ➞ 380\n",
            "Perimeter ➞ 28\n"
          ]
        }
      ]
    },
    {
      "cell_type": "markdown",
      "source": [
        "4.Create a function that takes a list of strings and return a list, sorted from shortest to longest.\n",
        "\n",
        "Examples:\n",
        "\n",
        "sort_by_length([\"Google\", \"Apple\", \"Microsoft\"])\n",
        "\n",
        "➞ [\"Apple\", \"Google\", \"Microsoft\"]\n",
        "\n",
        "sort_by_length([\"Leonardo\", \"Michelangelo\", \"Raphael\", \"Donatello\"])\n",
        "\n",
        "➞ [\"Raphael\", \"Leonardo\", \"Donatello\", \"Michelangelo\"]\n",
        "\n",
        "sort_by_length([\"Turing\", \"Einstein\", \"Jung\"])\n",
        "\n",
        "➞ [\"Jung\", \"Turing\", \"Einstein\"]\n",
        "\n",
        "Notes:\n",
        "\n",
        "All test cases contain lists with strings of different lengths, so you won't have to deal with multiple strings of the same length.\n"
      ],
      "metadata": {
        "id": "OkwebiIgNwv7"
      }
    },
    {
      "cell_type": "code",
      "source": [
        "\n",
        "def sort_by_length(in_list):\n",
        "    print(sorted(in_list,key=len))\n",
        "\n",
        "sort_by_length([\"Google\", \"Apple\", \"Microsoft\"])\n",
        "sort_by_length([\"Leonardo\", \"Michelangelo\", \"Raphael\", \"Donatello\"])\n",
        "sort_by_length([\"Turing\", \"Einstein\", \"Jung\"])"
      ],
      "metadata": {
        "colab": {
          "base_uri": "https://localhost:8080/"
        },
        "id": "laZK7Em0NvSE",
        "outputId": "690031cf-098d-4e20-a302-6586a0ab5757"
      },
      "execution_count": 4,
      "outputs": [
        {
          "output_type": "stream",
          "name": "stdout",
          "text": [
            "['Apple', 'Google', 'Microsoft']\n",
            "['Raphael', 'Leonardo', 'Donatello', 'Michelangelo']\n",
            "['Jung', 'Turing', 'Einstein']\n"
          ]
        }
      ]
    },
    {
      "cell_type": "markdown",
      "source": [
        "5.Create a function that validates whether three given integers form a Pythagorean triplet. The sum of the squares of the two smallest integers must equal the square of the largest number to be validated.\n",
        "\n",
        "Examples:\n",
        "\n",
        "is_triplet(3, 4, 5) ➞ True # 3² + 4² = 25 # 5² = 25 is_triplet(13, 5, 12) ➞ True # 5² + 12² = 169 # 13² = 169 is_triplet(1, 2, 3) ➞ False # 1² + 2² = 5 # 3² = 9\n",
        "\n",
        "Notes: Numbers may not be given in a sorted order.\n",
        "\n"
      ],
      "metadata": {
        "id": "i2ZW43wlN8i3"
      }
    },
    {
      "cell_type": "code",
      "source": [
        "def is_triplet(a,b,c):\n",
        "    if ((a**2+b**2) == (c**2)):\n",
        "        print(f'{a,b,c} ➞ {True}')\n",
        "    else:\n",
        "        print(f'{a,b,c} ➞ {False}')\n",
        "        \n",
        "is_triplet(3, 4, 5)\n",
        "is_triplet(3, 4, 5)\n",
        "is_triplet(1, 2, 3)"
      ],
      "metadata": {
        "colab": {
          "base_uri": "https://localhost:8080/"
        },
        "id": "z5StoCtcN7il",
        "outputId": "7d180478-f671-4924-d0c4-163b6ef42e6f"
      },
      "execution_count": 5,
      "outputs": [
        {
          "output_type": "stream",
          "name": "stdout",
          "text": [
            "(3, 4, 5) ➞ True\n",
            "(3, 4, 5) ➞ True\n",
            "(1, 2, 3) ➞ False\n"
          ]
        }
      ]
    },
    {
      "cell_type": "code",
      "source": [],
      "metadata": {
        "id": "pP7Cj_D9OEE1"
      },
      "execution_count": null,
      "outputs": []
    }
  ]
}