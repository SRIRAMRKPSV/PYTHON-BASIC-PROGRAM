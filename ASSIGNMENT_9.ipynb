{
  "nbformat": 4,
  "nbformat_minor": 0,
  "metadata": {
    "colab": {
      "provenance": []
    },
    "kernelspec": {
      "name": "python3",
      "display_name": "Python 3"
    },
    "language_info": {
      "name": "python"
    }
  },
  "cells": [
    {
      "cell_type": "markdown",
      "source": [
        "#ASSIGNMENT_9"
      ],
      "metadata": {
        "id": "RuM9pcYvrB-A"
      }
    },
    {
      "cell_type": "markdown",
      "source": [
        "1.Write a Python Program to check if the given number is a Disarium Number ?\n"
      ],
      "metadata": {
        "id": "jE2CwJ0HrBvp"
      }
    },
    {
      "cell_type": "code",
      "execution_count": 1,
      "metadata": {
        "colab": {
          "base_uri": "https://localhost:8080/"
        },
        "id": "plVwQ-p7q7fG",
        "outputId": "e316f7d9-b9d4-4d16-bb05-c4741302b48b"
      },
      "outputs": [
        {
          "output_type": "stream",
          "name": "stdout",
          "text": [
            "Enter a Number: 155\n",
            "155 is a Not Disarium Number\n",
            "Enter a Number: 13\n",
            "13 is a Not Disarium Number\n"
          ]
        }
      ],
      "source": [
        "def checkDisariumNumber():\n",
        "    in_num = input('Enter a Number: ')\n",
        "    sum = 0\n",
        "    for item in range(len(in_num)):\n",
        "        sum = sum + int(in_num[item])**(item+1)\n",
        "    if sum == int(in_num):\n",
        "        print(f'{in_num} is a Disarium Number')\n",
        "    else:\n",
        "        print(f'{in_num} is a Not Disarium Number') \n",
        "\n",
        "checkDisariumNumber()\n",
        "checkDisariumNumber()"
      ]
    },
    {
      "cell_type": "markdown",
      "source": [
        "2.Write a Python Program to print all Disarium numbers between 1 to 100 ?\n"
      ],
      "metadata": {
        "id": "lNccSU3YrXVm"
      }
    },
    {
      "cell_type": "code",
      "source": [
        "def printDisariumNumbers(start=0,end=100):\n",
        "    output_num = []\n",
        "    for number in range(start,end+1):\n",
        "        sum = 0\n",
        "        for item in range(len(str(number))):\n",
        "            sum = sum + int(str(number)[item])**(item+1)\n",
        "        if sum == number:\n",
        "            output_num.append(number)\n",
        "    return output_num\n",
        "            \n",
        "        \n",
        "printDisariumNumbers(1,1000)"
      ],
      "metadata": {
        "colab": {
          "base_uri": "https://localhost:8080/"
        },
        "id": "QMmYHM4jrW0l",
        "outputId": "1173996b-025a-45a2-8d27-e028d9e5b5d5"
      },
      "execution_count": 2,
      "outputs": [
        {
          "output_type": "execute_result",
          "data": {
            "text/plain": [
              "[1, 2, 3, 4, 5, 6, 7, 8, 9, 89, 135, 175, 518, 598]"
            ]
          },
          "metadata": {},
          "execution_count": 2
        }
      ]
    },
    {
      "cell_type": "markdown",
      "source": [
        "3.Write a Python Program to check if the given number is Happy Number ?\n"
      ],
      "metadata": {
        "id": "yW1Rd8AwriXf"
      }
    },
    {
      "cell_type": "code",
      "source": [
        "def checkHappyNumber():\n",
        "    in_num = input('Enter a Number: ')\n",
        "    in_num_duplicate = in_num\n",
        "    trackNumber = set()   \n",
        "    while True:\n",
        "        if in_num != '1' and str(in_num) not in trackNumber:\n",
        "            trackNumber.add(in_num)\n",
        "            sum = 0\n",
        "            for ele in range(len((in_num))):\n",
        "                sum = sum + int(in_num[ele])**2\n",
        "            in_num = str(sum)\n",
        "        elif str(in_num) in trackNumber:\n",
        "            print(f'{in_num_duplicate} is not a Happy Number')\n",
        "            break\n",
        "        else:\n",
        "            print(f'{in_num_duplicate} is a Happy Number')\n",
        "            break\n",
        "\n",
        "checkHappyNumber()\n",
        "checkHappyNumber()"
      ],
      "metadata": {
        "colab": {
          "base_uri": "https://localhost:8080/"
        },
        "id": "ROu8QiZErdca",
        "outputId": "30474323-5d7f-49ae-8a48-1be6ffcef885"
      },
      "execution_count": 3,
      "outputs": [
        {
          "output_type": "stream",
          "name": "stdout",
          "text": [
            "Enter a Number: 7\n",
            "7 is a Happy Number\n",
            "Enter a Number: 10\n",
            "10 is a Happy Number\n"
          ]
        }
      ]
    },
    {
      "cell_type": "markdown",
      "source": [
        "4.Write a Python Program to print all Happy numbers between 1 and 100 ?\n"
      ],
      "metadata": {
        "id": "GCjyrLQTrxV0"
      }
    },
    {
      "cell_type": "code",
      "source": [
        "def checkHappyNumber(start=0,end=100):\n",
        "    happyNumbersList = []\n",
        "    for in_num in range(start,end+1):\n",
        "        in_num = str(in_num)\n",
        "        inum_holder = in_num\n",
        "        trackNumber = set()   \n",
        "        while True:\n",
        "            if in_num != '1' and str(in_num) not in trackNumber:\n",
        "                trackNumber.add(in_num)\n",
        "                sum = 0\n",
        "                for ele in range(len((in_num))):\n",
        "                    sum = sum + int(in_num[ele])**2\n",
        "                in_num = str(sum)\n",
        "            elif str(in_num) in trackNumber:\n",
        "                break\n",
        "            else:\n",
        "                happyNumbersList.append(int(inum_holder))\n",
        "                break\n",
        "    print(f'The Happy Numbers between {start} and {end} are {happyNumbersList}')\n",
        "    \n",
        "checkHappyNumber(0,100)"
      ],
      "metadata": {
        "colab": {
          "base_uri": "https://localhost:8080/"
        },
        "id": "R_fKUV31rk-L",
        "outputId": "2906f7ad-84bf-4192-a74a-f96df50f3b9f"
      },
      "execution_count": 4,
      "outputs": [
        {
          "output_type": "stream",
          "name": "stdout",
          "text": [
            "The Happy Numbers between 0 and 100 are [1, 7, 10, 13, 19, 23, 28, 31, 32, 44, 49, 68, 70, 79, 82, 86, 91, 94, 97, 100]\n"
          ]
        }
      ]
    },
    {
      "cell_type": "markdown",
      "source": [
        "5.Write a Python Program to determine whether the given number is a Harshad Number ?\n"
      ],
      "metadata": {
        "id": "HoB4s94_r5gW"
      }
    },
    {
      "cell_type": "code",
      "source": [
        "def checkHarshadNumber():\n",
        "    in_num = input('Enter a Number: ')\n",
        "    sum = 0\n",
        "    for item in range(len(in_num)):\n",
        "        sum = sum + int(in_num[item])\n",
        "    if int(in_num)%sum == 0:\n",
        "        print(f'{in_num} is a Harshad Number')\n",
        "    else:\n",
        "        print(f'{in_num} is a Not Harshad Number')\n",
        "        \n",
        "checkHarshadNumber()\n",
        "checkHarshadNumber()"
      ],
      "metadata": {
        "colab": {
          "base_uri": "https://localhost:8080/"
        },
        "id": "Ko8-V6FGr33K",
        "outputId": "e657d11f-ff8e-47e8-d5b4-4f69adf61d34"
      },
      "execution_count": 5,
      "outputs": [
        {
          "output_type": "stream",
          "name": "stdout",
          "text": [
            "Enter a Number: 189\n",
            "189 is a Not Harshad Number\n",
            "Enter a Number: 20\n",
            "20 is a Harshad Number\n"
          ]
        }
      ]
    },
    {
      "cell_type": "markdown",
      "source": [
        "6.Write a Python Program to print all pronic numbers between 1 and 100 ?\n"
      ],
      "metadata": {
        "id": "xhTKkONPsHLq"
      }
    },
    {
      "cell_type": "code",
      "source": [
        "def printPronicNumbers(start=0,end=100):\n",
        "    outputList = []\n",
        "    for ele in range(start,end+1):\n",
        "        outputList.append((ele)*(ele+1))\n",
        "    print(outputList)\n",
        "                   \n",
        "printPronicNumbers()"
      ],
      "metadata": {
        "colab": {
          "base_uri": "https://localhost:8080/"
        },
        "id": "LgUndEvqr__v",
        "outputId": "b976a0c2-867d-4350-d35c-ac90f7d41103"
      },
      "execution_count": 6,
      "outputs": [
        {
          "output_type": "stream",
          "name": "stdout",
          "text": [
            "[0, 2, 6, 12, 20, 30, 42, 56, 72, 90, 110, 132, 156, 182, 210, 240, 272, 306, 342, 380, 420, 462, 506, 552, 600, 650, 702, 756, 812, 870, 930, 992, 1056, 1122, 1190, 1260, 1332, 1406, 1482, 1560, 1640, 1722, 1806, 1892, 1980, 2070, 2162, 2256, 2352, 2450, 2550, 2652, 2756, 2862, 2970, 3080, 3192, 3306, 3422, 3540, 3660, 3782, 3906, 4032, 4160, 4290, 4422, 4556, 4692, 4830, 4970, 5112, 5256, 5402, 5550, 5700, 5852, 6006, 6162, 6320, 6480, 6642, 6806, 6972, 7140, 7310, 7482, 7656, 7832, 8010, 8190, 8372, 8556, 8742, 8930, 9120, 9312, 9506, 9702, 9900, 10100]\n"
          ]
        }
      ]
    },
    {
      "cell_type": "code",
      "source": [],
      "metadata": {
        "id": "xK4mOzzOsM5u"
      },
      "execution_count": null,
      "outputs": []
    }
  ]
}