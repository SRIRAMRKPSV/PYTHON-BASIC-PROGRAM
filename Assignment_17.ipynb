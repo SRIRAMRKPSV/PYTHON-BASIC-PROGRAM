{
  "nbformat": 4,
  "nbformat_minor": 0,
  "metadata": {
    "colab": {
      "provenance": []
    },
    "kernelspec": {
      "name": "python3",
      "display_name": "Python 3"
    },
    "language_info": {
      "name": "python"
    }
  },
  "cells": [
    {
      "cell_type": "markdown",
      "source": [
        "#ASSIGNMENT_17"
      ],
      "metadata": {
        "id": "-sGEHGLWTnpK"
      }
    },
    {
      "cell_type": "markdown",
      "source": [
        "1.Create a function that takes three arguments a, b, c and returns the sum of the numbers that are evenly divided by c from the range a, b inclusive ?\n",
        "\n",
        "Examples:\n",
        "\n",
        "evenly_divisible(1, 10, 20) ➞ 0 # No number between 1 and 10 can be evenly \n",
        "divided by 20. evenly_divisible(1, 10, 2) ➞ 30 # 2 + 4 + 6 + 8 + 10 = 30 \n",
        "\n",
        "evenly_divisible(1, 10, 3) ➞ 18 # 3 + 6 + 9 = 18\n",
        "\n"
      ],
      "metadata": {
        "id": "xa6nFCE2TnZu"
      }
    },
    {
      "cell_type": "code",
      "execution_count": 1,
      "metadata": {
        "colab": {
          "base_uri": "https://localhost:8080/"
        },
        "id": "0TFulRiwTjjV",
        "outputId": "82b23138-b4c8-4644-aaac-84bea727f001"
      },
      "outputs": [
        {
          "output_type": "stream",
          "name": "stdout",
          "text": [
            "(1, 10, 20) ➞ 0\n",
            "(1, 10, 2) ➞ 30\n",
            "(1, 10, 3) ➞ 18\n"
          ]
        }
      ],
      "source": [
        "def evenDivisible(a,b,c):\n",
        "    divList = []\n",
        "    for num in range(a,b+1):\n",
        "        if num%c == 0:\n",
        "            divList.append(num)\n",
        "    print(f'{a,b,c} ➞ {sum(divList)}')\n",
        "\n",
        "evenDivisible(1,10,20)\n",
        "evenDivisible(1,10,2)\n",
        "evenDivisible(1,10,3)"
      ]
    },
    {
      "cell_type": "markdown",
      "source": [
        "2.Create a function that returns True if a given inequality expression is correct and False otherwise ?\n",
        "\n",
        "Examples:\n",
        "\n",
        "correct_signs(\"3 < 7 < 11\") ➞ True\n",
        "\n",
        "correct_signs(\"13 > 44 > 33 > 1\") ➞ False\n",
        "\n",
        "correct_signs(\"1 < 2 < 6 < 9 > 3\") ➞ True\n",
        "\n"
      ],
      "metadata": {
        "id": "f-ZNhRksUOVT"
      }
    },
    {
      "cell_type": "code",
      "source": [
        "def checkEquality():\n",
        "    in_string = input('Enter the inequality: ')\n",
        "    out_bool = eval(in_string)\n",
        "    print(f'{in_string} ➞ {out_bool}')\n",
        "\n",
        "for x in range(3):\n",
        "    checkEquality()"
      ],
      "metadata": {
        "colab": {
          "base_uri": "https://localhost:8080/"
        },
        "id": "4bxsj15HUHJN",
        "outputId": "476b694c-ece8-4a2b-a73d-a86d6ae4c5ab"
      },
      "execution_count": 2,
      "outputs": [
        {
          "output_type": "stream",
          "name": "stdout",
          "text": [
            "Enter the inequality: 3<4<6\n",
            "3<4<6 ➞ True\n",
            "Enter the inequality: 4>2>6\n",
            "4>2>6 ➞ False\n",
            "Enter the inequality: 2>3>5\n",
            "2>3>5 ➞ False\n"
          ]
        }
      ]
    },
    {
      "cell_type": "markdown",
      "source": [
        "3.Create a function that replaces all the vowels in a string with a specified character ?\n",
        "\n",
        "Examples:\n",
        "\n",
        "replace_vowels(\"the aardvark\", \"#\") ➞ \"th# ##rdv#rk\"\n",
        "\n",
        "replace_vowels(\"minnie mouse\", \"?\") ➞ \"m?nn?? m??s?\"\n",
        "\n",
        "replace_vowels(\"shakespeare\", \"*\") ➞ \"shksp**r\"\n",
        "\n",
        "\n"
      ],
      "metadata": {
        "id": "PmaqxTm0Uk4A"
      }
    },
    {
      "cell_type": "code",
      "source": [
        "def replaceVowels():\n",
        "    vowels = ['a','e','i','o','u','A','E','I','O','U']\n",
        "    in_string = input(\"String: \")\n",
        "    in_string_copy = in_string\n",
        "    in_char = input('Replacement character: ')\n",
        "    for ele in in_string:\n",
        "        if ele in vowels:\n",
        "            in_string = in_string.replace(ele,in_char)\n",
        "    print(f'{in_string_copy} {in_char} ➞ {in_string}')\n",
        "            \n",
        "for x in range(3):\n",
        "    replaceVowels()"
      ],
      "metadata": {
        "colab": {
          "base_uri": "https://localhost:8080/"
        },
        "id": "W7OhqiKRUkGp",
        "outputId": "7b9680d0-331c-4a05-f9ce-83d39a2dde1f"
      },
      "execution_count": 3,
      "outputs": [
        {
          "output_type": "stream",
          "name": "stdout",
          "text": [
            "String: SRIRAM\n",
            "Replacement character: R\n",
            "SRIRAM R ➞ SRRRRM\n",
            "String: SAIRAM\n",
            "Replacement character: A\n",
            "SAIRAM A ➞ SAARAM\n",
            "String: DUYVBEIGV\n",
            "Replacement character: *\n",
            "DUYVBEIGV * ➞ D*YVB**GV\n"
          ]
        }
      ]
    },
    {
      "cell_type": "markdown",
      "source": [
        "4.Write a function that calculates the factorial of a number recursively ?\n",
        "\n",
        "Examples:\n",
        "\n",
        "factorial(5) ➞ 120\n",
        "\n",
        "factorial(3) ➞ 6\n",
        "\n",
        "factorial(1) ➞ 1\n",
        "\n",
        "factorial(0) ➞ 1\n",
        "\n"
      ],
      "metadata": {
        "id": "UNXbH0QIVIIN"
      }
    },
    {
      "cell_type": "code",
      "source": [
        "def factorial(n):\n",
        "    if n==0:\n",
        "        return 1\n",
        "    return n * factorial(n-1)\n",
        "\n",
        "print(f'factorial(5) ➞ {factorial(5)}')\n",
        "print(f'factorial(3) ➞ {factorial(3)}')\n",
        "print(f'factorial(1) ➞ {factorial(1)}')\n",
        "print(f'factorial(0) ➞ {factorial(0)}')"
      ],
      "metadata": {
        "colab": {
          "base_uri": "https://localhost:8080/"
        },
        "id": "1Wf431t-Uza7",
        "outputId": "770ce5a2-8461-48f4-b847-7e3c270f84fc"
      },
      "execution_count": 4,
      "outputs": [
        {
          "output_type": "stream",
          "name": "stdout",
          "text": [
            "factorial(5) ➞ 120\n",
            "factorial(3) ➞ 6\n",
            "factorial(1) ➞ 1\n",
            "factorial(0) ➞ 1\n"
          ]
        }
      ]
    },
    {
      "cell_type": "markdown",
      "source": [
        "5.Hamming distance is the number of characters that differ between two strings ?\n",
        "\n",
        "To illustrate:\n",
        "\n",
        "String1: \"abcbba\"\n",
        "\n",
        "String2: \"abcbda\"\n",
        "\n",
        "Hamming Distance: 1 - \"b\" vs. \"d\" is the only difference.\n",
        "\n",
        "Create a function that computes the hamming distance between two strings.\n",
        "\n",
        "Examples:\n",
        "\n",
        "hamming_distance(\"abcde\", \"bcdef\") ➞ 5\n",
        "\n",
        "hamming_distance(\"abcde\", \"abcde\") ➞ 0\n",
        "\n",
        "hamming_distance(\"strong\", \"strung\") ➞ 1\n",
        "\n"
      ],
      "metadata": {
        "id": "XsBfU9-zVTQn"
      }
    },
    {
      "cell_type": "code",
      "source": [
        "def genHamDistance():\n",
        "    in_string_1 = input('Enter the String_1: ')\n",
        "    in_string_2 = input('Enter the String_2: ')\n",
        "    if len(in_string_1) == len(in_string_2):\n",
        "        count = 0\n",
        "        for i in range(len(in_string_1)):\n",
        "            if in_string_1[i] != in_string_2[i]:\n",
        "                count = count+1\n",
        "        print(f'Hamning Distance b/w {in_string_1} and {in_string_2} ➞ {count}')\n",
        "    else:\n",
        "        print('Both Strings Must be of Same Length')\n",
        "\n",
        "for x in range(3):\n",
        "    genHamDistance()"
      ],
      "metadata": {
        "colab": {
          "base_uri": "https://localhost:8080/"
        },
        "id": "Rs2gD72JVRQd",
        "outputId": "846e7f65-6f97-4af5-b2e8-3f3514749f54"
      },
      "execution_count": 5,
      "outputs": [
        {
          "output_type": "stream",
          "name": "stdout",
          "text": [
            "Enter the String_1: SRIRAM\n",
            "Enter the String_2: INEURON\n",
            "Both Strings Must be of Same Length\n",
            "Enter the String_1: SRIRAM\n",
            "Enter the String_2: SAIRAM\n",
            "Hamning Distance b/w SRIRAM and SAIRAM ➞ 1\n",
            "Enter the String_1: STRONG\n",
            "Enter the String_2: ABCDEF\n",
            "Hamning Distance b/w STRONG and ABCDEF ➞ 6\n"
          ]
        }
      ]
    },
    {
      "cell_type": "code",
      "source": [],
      "metadata": {
        "id": "ivnA1s0dWAVW"
      },
      "execution_count": null,
      "outputs": []
    }
  ]
}