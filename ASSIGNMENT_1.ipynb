{
  "nbformat": 4,
  "nbformat_minor": 0,
  "metadata": {
    "colab": {
      "provenance": []
    },
    "kernelspec": {
      "name": "python3",
      "display_name": "Python 3"
    },
    "language_info": {
      "name": "python"
    }
  },
  "cells": [
    {
      "cell_type": "markdown",
      "source": [
        "#ASSIGNMENT_1"
      ],
      "metadata": {
        "id": "Dpl6QL0-O3TM"
      }
    },
    {
      "cell_type": "markdown",
      "source": [
        "1.Write a Python program to print 'Hello Python' ?\n"
      ],
      "metadata": {
        "id": "6saSmg39QNud"
      }
    },
    {
      "cell_type": "code",
      "execution_count": 1,
      "metadata": {
        "colab": {
          "base_uri": "https://localhost:8080/"
        },
        "id": "ZGJ5gtm2NLDA",
        "outputId": "bfe1ec4e-2793-45fd-da61-fcf91470a8fa"
      },
      "outputs": [
        {
          "output_type": "stream",
          "name": "stdout",
          "text": [
            "Hello Python\n"
          ]
        }
      ],
      "source": [
        "print('Hello Python')"
      ]
    },
    {
      "cell_type": "markdown",
      "source": [
        "2.Write a Python program to do arithmetic operations addition and division ?\n"
      ],
      "metadata": {
        "id": "hWiRBV3hQR0c"
      }
    },
    {
      "cell_type": "code",
      "source": [
        "import operator\n",
        "\n",
        "ops = { \"+\": operator.add, \"-\": operator.sub, \"*\":operator.mul, \"/\":operator.truediv } \n",
        "\n",
        "print('Select a Arithmetic Operation: \\\n",
        "        \\n1.Addition(+)\\\n",
        "        \\n2.Division(-)\\\n",
        "        \\n2.Multiplication(*)\\\n",
        "        \\n4.Division(/)\\\n",
        "        \\n3.Stop(0)\\n')\n",
        "   \n",
        "\n",
        "while True:\n",
        "    operator = input('Enter a arithmetic operation -> ')\n",
        "    if operator == '0':\n",
        "        print(\"Program Stopped successfully\")\n",
        "        break\n",
        "    elif operator not in ['+','-','*','/']:\n",
        "        print(\"Please enter a valid operator\")\n",
        "    else:\n",
        "        num_1 = int(input('\\nEnter 1st Number: '))\n",
        "        num_2 = int(input('Enter 2nd Number: '))\n",
        "        print('{}{}{}={}\\n'.format(num_1, operator, num_2, ops[operator](num_1,num_2)))"
      ],
      "metadata": {
        "colab": {
          "base_uri": "https://localhost:8080/"
        },
        "id": "lGysExMGQRId",
        "outputId": "ec8d1d02-9ebc-49b6-89c9-d72b3ab6cc95"
      },
      "execution_count": 2,
      "outputs": [
        {
          "output_type": "stream",
          "name": "stdout",
          "text": [
            "Select a Arithmetic Operation:         \n",
            "1.Addition(+)        \n",
            "2.Division(-)        \n",
            "2.Multiplication(*)        \n",
            "4.Division(/)        \n",
            "3.Stop(0)\n",
            "\n",
            "Enter a arithmetic operation -> +\n",
            "\n",
            "Enter 1st Number: 5\n",
            "Enter 2nd Number: 6\n",
            "5+6=11\n",
            "\n",
            "Enter a arithmetic operation -> /\n",
            "\n",
            "Enter 1st Number: 20\n",
            "Enter 2nd Number: 2\n",
            "20/2=10.0\n",
            "\n",
            "Enter a arithmetic operation -> 0\n",
            "Program Stopped successfully\n"
          ]
        }
      ]
    },
    {
      "cell_type": "markdown",
      "source": [
        "3.Write a Python program to find the area of a triangle ?\n"
      ],
      "metadata": {
        "id": "hSm7R6vbQn5o"
      }
    },
    {
      "cell_type": "code",
      "source": [
        "height = int(input('Enter height of triangle: '))\n",
        "base = int(input('Enter base of triangle: '))\n",
        "\n",
        "def areaOfTriangle(height, base):\n",
        "    print('\\nArea of triangle ->', 0.5*height*base)\n",
        "\n",
        "areaOfTriangle(height,base)"
      ],
      "metadata": {
        "colab": {
          "base_uri": "https://localhost:8080/"
        },
        "id": "LEjjDndnQZcY",
        "outputId": "eefd66b6-c908-4fe1-9dc3-b5b4bae19668"
      },
      "execution_count": 3,
      "outputs": [
        {
          "output_type": "stream",
          "name": "stdout",
          "text": [
            "Enter height of triangle: 6\n",
            "Enter base of triangle: 5\n",
            "\n",
            "Area of triangle -> 15.0\n"
          ]
        }
      ]
    },
    {
      "cell_type": "markdown",
      "source": [
        "4.Write a Python program to swap two variables ?\n"
      ],
      "metadata": {
        "id": "VE1Sm5odQwht"
      }
    },
    {
      "cell_type": "code",
      "source": [
        "num_1 = int(input(\"Enter First Number: \"))\n",
        "num_2 = int(input(\"Enter Second Number: \"))\n",
        "\n",
        "def swapNumbers(a,b):\n",
        "    temp = a\n",
        "    a = b\n",
        "    b = temp\n",
        "    return a,b\n",
        "\n",
        "print('Before swapping -> ',num_1, num_2)\n",
        "num_1, num_2 = swapNumbers(num_1, num_2)\n",
        "print('After swapping -> ',num_1,num_2)"
      ],
      "metadata": {
        "colab": {
          "base_uri": "https://localhost:8080/"
        },
        "id": "CAvMyv1oQs2G",
        "outputId": "0e1d8112-7f50-48cf-bd72-1bdf8cb62db6"
      },
      "execution_count": 4,
      "outputs": [
        {
          "output_type": "stream",
          "name": "stdout",
          "text": [
            "Enter First Number: 10\n",
            "Enter Second Number: 20\n",
            "Before swapping ->  10 20\n",
            "After swapping ->  20 10\n"
          ]
        }
      ]
    },
    {
      "cell_type": "markdown",
      "source": [
        "5.Write a Python program to generate a random number ?\n"
      ],
      "metadata": {
        "id": "ynKymQnoQ7G0"
      }
    },
    {
      "cell_type": "code",
      "source": [
        "from random import randint\n",
        "\n",
        "def generateRandomNumber(start=0, end=100000):\n",
        "    print('Random number -> ',randint(start,end))\n",
        "\n",
        "# Generating random numbers without arguments    \n",
        "generateRandomNumber()\n",
        "\n",
        "# Generating random numbers with arguments    \n",
        "generateRandomNumber(0,100)"
      ],
      "metadata": {
        "colab": {
          "base_uri": "https://localhost:8080/"
        },
        "id": "44wLsH-3Q2hm",
        "outputId": "c2b49801-ed5f-4e8d-e012-a839970f027a"
      },
      "execution_count": 5,
      "outputs": [
        {
          "output_type": "stream",
          "name": "stdout",
          "text": [
            "Random number ->  1077\n",
            "Random number ->  24\n"
          ]
        }
      ]
    },
    {
      "cell_type": "code",
      "source": [],
      "metadata": {
        "id": "NjybokJoRBUj"
      },
      "execution_count": null,
      "outputs": []
    }
  ]
}