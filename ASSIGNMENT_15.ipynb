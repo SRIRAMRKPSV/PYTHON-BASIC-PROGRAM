{
  "nbformat": 4,
  "nbformat_minor": 0,
  "metadata": {
    "colab": {
      "provenance": []
    },
    "kernelspec": {
      "name": "python3",
      "display_name": "Python 3"
    },
    "language_info": {
      "name": "python"
    }
  },
  "cells": [
    {
      "cell_type": "markdown",
      "source": [
        "#ASSIGNMENT_15"
      ],
      "metadata": {
        "id": "FEYxCtQKdINU"
      }
    },
    {
      "cell_type": "markdown",
      "source": [
        "1. Please write a program using generator to print the numbers which can be divisible by 5 and 7 between 0 and n in comma separated form while n is input by console ?\n",
        "\n",
        "Example:\n",
        "\n",
        "If the following n is given as input to the program: 100\n",
        "\n",
        "Then, the output of the program should be: 0,35,70\n",
        "\n"
      ],
      "metadata": {
        "id": "0w-ldJuVdIEz"
      }
    },
    {
      "cell_type": "code",
      "execution_count": 1,
      "metadata": {
        "colab": {
          "base_uri": "https://localhost:8080/"
        },
        "id": "a7m_OLZwdC-S",
        "outputId": "7c4c3f6e-6240-476f-bdc1-7f66a2d2755b"
      },
      "outputs": [
        {
          "output_type": "stream",
          "name": "stdout",
          "text": [
            "0 35 70 "
          ]
        }
      ],
      "source": [
        "def showDivisible(in_num):\n",
        "    for ele in range(0,in_num):\n",
        "        if (ele%5 == 0) and (ele%7 == 0):\n",
        "            yield ele\n",
        "for ele in showDivisible(100):\n",
        "    print(ele,end=' ')"
      ]
    },
    {
      "cell_type": "markdown",
      "source": [
        "2.Please write a program using generator to print the even numbers between 0 and n in comma separated form while n is input by console ?\n",
        "\n",
        "Example:\n",
        "\n",
        "If the following n is given as input to the program: 10\n",
        "\n",
        "Then, the output of the program should be: 0,2,4,6,8,10\n",
        "\n"
      ],
      "metadata": {
        "id": "RbxkGS76f0_S"
      }
    },
    {
      "cell_type": "code",
      "source": [
        "def genEvenNumbers(in_num):\n",
        "    for ele in range(in_num+1):\n",
        "        if ele%2 == 0:\n",
        "            yield ele\n",
        "\n",
        "for ele in genEvenNumbers(10):\n",
        "    print(ele,end=' ')\n",
        "    "
      ],
      "metadata": {
        "colab": {
          "base_uri": "https://localhost:8080/"
        },
        "id": "Rf_MglLJfyJc",
        "outputId": "c97d90d9-196d-46b7-e9c7-df1a436a618a"
      },
      "execution_count": 2,
      "outputs": [
        {
          "output_type": "stream",
          "name": "stdout",
          "text": [
            "0 2 4 6 8 10 "
          ]
        }
      ]
    },
    {
      "cell_type": "markdown",
      "source": [
        "3.The Fibonacci Sequence is computed based on the following formula below, Please write a program using list comprehension to print the Fibonacci Sequence in comma separated form with a given n input by console ?\n",
        "\n",
        "f(n)=0 if n=0 f(n)=1 if n=1 f(n)=f(n-1)+f(n-2) if n>1\n",
        "\n"
      ],
      "metadata": {
        "id": "CLDAeXAnf86S"
      }
    },
    {
      "cell_type": "code",
      "source": [
        "def genFibonaci(in_num):\n",
        "    if in_num == 0:\n",
        "        return 0\n",
        "    elif in_num == 1:\n",
        "        return 1\n",
        "    else:\n",
        "        return genFibonaci(in_num-1)+genFibonaci(in_num-2)\n",
        "    \n",
        "print([genFibonaci(x) for x in range(20)])"
      ],
      "metadata": {
        "colab": {
          "base_uri": "https://localhost:8080/"
        },
        "id": "S19ET52Lf9m0",
        "outputId": "2df5dada-89a3-4bbc-ca03-0e385b44940e"
      },
      "execution_count": 3,
      "outputs": [
        {
          "output_type": "stream",
          "name": "stdout",
          "text": [
            "[0, 1, 1, 2, 3, 5, 8, 13, 21, 34, 55, 89, 144, 233, 377, 610, 987, 1597, 2584, 4181]\n"
          ]
        }
      ]
    },
    {
      "cell_type": "markdown",
      "source": [
        "4.Assuming that we have some email addresses in the \"username@companyname.com\" format, please write program to print the user name of a given email address. Both user names and company names are composed of letters only ?\n",
        "\n",
        "Example:\n",
        "\n",
        "If the following email address is given as input to the program: \n",
        "\n",
        "john@google.com\n",
        "\n",
        "Then, the output of the program should be: john\n"
      ],
      "metadata": {
        "id": "vdPFse7CgTjS"
      }
    },
    {
      "cell_type": "code",
      "source": [
        "\n",
        "def getUsernames():\n",
        "    in_string = input('Enter Email Address(es): ')\n",
        "    out_string = in_string.split('@')\n",
        "    print(f'Username of {in_string} is {out_string[0]}')\n",
        "\n",
        "for i in range(3):\n",
        "    getUsernames()"
      ],
      "metadata": {
        "colab": {
          "base_uri": "https://localhost:8080/"
        },
        "id": "NAdhb9RbgQnp",
        "outputId": "e96a3eb4-ea4a-4d0b-bc27-c53d2e9e89aa"
      },
      "execution_count": 4,
      "outputs": [
        {
          "output_type": "stream",
          "name": "stdout",
          "text": [
            "Enter Email Address(es): sriramrkpsv@gmail.com\n",
            "Username of sriramrkpsv@gmail.com is sriramrkpsv\n",
            "Enter Email Address(es): sriram@gmail.com\n",
            "Username of sriram@gmail.com is sriram\n",
            "Enter Email Address(es): sriramkrishnan@gmail.com\n",
            "Username of sriramkrishnan@gmail.com is sriramkrishnan\n"
          ]
        }
      ]
    },
    {
      "cell_type": "markdown",
      "source": [
        "5.Define a class named Shape and its subclass Square. The Square class has an init function which takes a length as argument. Both classes have a area function which can print the area of the shape where Shape's area is 0 by default.\n"
      ],
      "metadata": {
        "id": "iFa96gOdg1MU"
      }
    },
    {
      "cell_type": "code",
      "source": [
        "class Shape:\n",
        "    def area(self):\n",
        "        return 0\n",
        "\n",
        "class Square(Shape):\n",
        "    def __init__(self, length):\n",
        "        self.length = length\n",
        "    def area(self):\n",
        "        return self.length*self.length\n",
        "\n",
        "square = Square(50)\n",
        "print(square.area())"
      ],
      "metadata": {
        "colab": {
          "base_uri": "https://localhost:8080/"
        },
        "id": "EdfQfh1dghAx",
        "outputId": "c3951e4f-d0bb-4a7e-e96a-994fe1b35778"
      },
      "execution_count": 5,
      "outputs": [
        {
          "output_type": "stream",
          "name": "stdout",
          "text": [
            "2500\n"
          ]
        }
      ]
    },
    {
      "cell_type": "code",
      "source": [],
      "metadata": {
        "id": "l5mkOqK0g5Ei"
      },
      "execution_count": null,
      "outputs": []
    }
  ]
}