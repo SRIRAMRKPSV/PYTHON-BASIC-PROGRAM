{
  "nbformat": 4,
  "nbformat_minor": 0,
  "metadata": {
    "colab": {
      "provenance": []
    },
    "kernelspec": {
      "name": "python3",
      "display_name": "Python 3"
    },
    "language_info": {
      "name": "python"
    }
  },
  "cells": [
    {
      "cell_type": "markdown",
      "source": [
        "#ASSIGNMENT_10"
      ],
      "metadata": {
        "id": "Sfonv8Ipsner"
      }
    },
    {
      "cell_type": "markdown",
      "source": [
        "1.Write a Python Program to find sum of elements in a list ?\n"
      ],
      "metadata": {
        "id": "TCdF8kmSssvR"
      }
    },
    {
      "cell_type": "code",
      "execution_count": 1,
      "metadata": {
        "colab": {
          "base_uri": "https://localhost:8080/"
        },
        "id": "KIIL06XKsfmf",
        "outputId": "d75368df-f3ce-432a-b563-e567193fedb4"
      },
      "outputs": [
        {
          "output_type": "stream",
          "name": "stdout",
          "text": [
            "Enter the No of Entries in a List: 4\n",
            "Enter a element: 33\n",
            "Enter a element: 44\n",
            "Enter a element: 55\n",
            "Enter a element: 66\n",
            "Sum of Elements: 198\n"
          ]
        }
      ],
      "source": [
        "def sumofList():\n",
        "    in_ele = int(input('Enter the No of Entries in a List: '))\n",
        "    in_list = []\n",
        "    for itr in range(in_ele):\n",
        "        in_list.append(int(input('Enter a element: ')))\n",
        "    print(f'Sum of Elements: {sum(in_list)}')\n",
        "\n",
        "sumofList()"
      ]
    },
    {
      "cell_type": "markdown",
      "source": [
        "2.Write a Python Program to multiply all numbers in the list ?\n"
      ],
      "metadata": {
        "id": "2KosSjvbtMDt"
      }
    },
    {
      "cell_type": "code",
      "source": [
        "def mulofList():\n",
        "    in_ele = int(input('Enter the No of Entries in a List: '))\n",
        "    in_list = []\n",
        "    mul = 1\n",
        "    for itr in range(in_ele):\n",
        "        in_list.append(int(input('Enter a element: ')))\n",
        "    for ele in in_list:\n",
        "        mul = mul * ele\n",
        "    print(mul)\n",
        "\n",
        "mulofList()"
      ],
      "metadata": {
        "colab": {
          "base_uri": "https://localhost:8080/"
        },
        "id": "wFggxiO4tLJW",
        "outputId": "9dc83243-f45b-44cc-aeab-023c9bbc059c"
      },
      "execution_count": 2,
      "outputs": [
        {
          "output_type": "stream",
          "name": "stdout",
          "text": [
            "Enter the No of Entries in a List: 4\n",
            "Enter a element: 1\n",
            "Enter a element: 2\n",
            "Enter a element: 3\n",
            "Enter a element: 4\n",
            "24\n"
          ]
        }
      ]
    },
    {
      "cell_type": "markdown",
      "source": [
        "3.Write a Python Program to find smallest number in the list ?\n"
      ],
      "metadata": {
        "id": "5xI6jvCPtiyj"
      }
    },
    {
      "cell_type": "code",
      "source": [
        "def smallEleInList():\n",
        "    in_ele = int(input('Enter the No of elements in a list: '))\n",
        "    in_list = []\n",
        "    for ele in range(in_ele):\n",
        "        in_list.append(int(input('Enter a Element: ')))\n",
        "    print(f'The Smallest Element in {in_list} is {sorted(in_list)[0]}')\n",
        "smallEleInList()"
      ],
      "metadata": {
        "colab": {
          "base_uri": "https://localhost:8080/"
        },
        "id": "C4i2lE_wtTSo",
        "outputId": "128d85fc-2fb1-4406-8e60-0e1db4ef2ebb"
      },
      "execution_count": 3,
      "outputs": [
        {
          "output_type": "stream",
          "name": "stdout",
          "text": [
            "Enter the No of elements in a list: 5\n",
            "Enter a Element: 1\n",
            "Enter a Element: 2\n",
            "Enter a Element: 3\n",
            "Enter a Element: 7\n",
            "Enter a Element: 6\n",
            "The Smallest Element in [1, 2, 3, 7, 6] is 1\n"
          ]
        }
      ]
    },
    {
      "cell_type": "markdown",
      "source": [
        "4.Write a Python Program to find largest number in the list ?\n"
      ],
      "metadata": {
        "id": "DHjVx8ePtvg2"
      }
    },
    {
      "cell_type": "code",
      "source": [
        "def largestEleInList():\n",
        "    in_ele = int(input('Enter the No of elements in a list: '))\n",
        "    in_list = []\n",
        "    for ele in range(in_ele):\n",
        "        in_list.append(int(input('Enter a Element: ')))\n",
        "    print(f'The Largest Element in {in_list} is {sorted(in_list, reverse=True)[0]}')\n",
        "\n",
        "largestEleInList()"
      ],
      "metadata": {
        "colab": {
          "base_uri": "https://localhost:8080/"
        },
        "id": "DoqLiHFjtpb_",
        "outputId": "810405b4-6309-471a-b2eb-14398952513e"
      },
      "execution_count": 4,
      "outputs": [
        {
          "output_type": "stream",
          "name": "stdout",
          "text": [
            "Enter the No of elements in a list: 5\n",
            "Enter a Element: 1\n",
            "Enter a Element: 6\n",
            "Enter a Element: 7\n",
            "Enter a Element: 9\n",
            "Enter a Element: 8\n",
            "The Largest Element in [1, 6, 7, 9, 8] is 9\n"
          ]
        }
      ]
    },
    {
      "cell_type": "markdown",
      "source": [
        "5.Write a Python Program to find second largest number in the list ?\n"
      ],
      "metadata": {
        "id": "NbBsHwFEt8mK"
      }
    },
    {
      "cell_type": "code",
      "source": [
        "def secondLargestEleInList():\n",
        "    in_ele = int(input('Enter the No of elements in a list: '))\n",
        "    in_list = []\n",
        "    for ele in range(in_ele):\n",
        "        in_list.append(int(input('Enter a Element: ')))\n",
        "    print(f'The Second Largest Element in {in_list} is {sorted(in_list, reverse=True)[1]}')\n",
        "\n",
        "secondLargestEleInList()"
      ],
      "metadata": {
        "colab": {
          "base_uri": "https://localhost:8080/"
        },
        "id": "JbQSJTu_t1P6",
        "outputId": "3452efe2-0395-482f-bf35-c1d9858e5423"
      },
      "execution_count": 5,
      "outputs": [
        {
          "output_type": "stream",
          "name": "stdout",
          "text": [
            "Enter the No of elements in a list: 3\n",
            "Enter a Element: 44\n",
            "Enter a Element: 55\n",
            "Enter a Element: 33\n",
            "The Second Largest Element in [44, 55, 33] is 44\n"
          ]
        }
      ]
    },
    {
      "cell_type": "markdown",
      "source": [
        "6.Write a Python Program to find N largest elements in the list ?\n"
      ],
      "metadata": {
        "id": "zZHH4PI1uI3L"
      }
    },
    {
      "cell_type": "code",
      "source": [
        "def nLargestEleInList(k):\n",
        "    in_ele = int(input('Enter the No of elements in a list: '))\n",
        "    in_list = []\n",
        "    for ele in range(in_ele):\n",
        "        in_list.append(int(input('Enter a Element: ')))\n",
        "    print(f'The {k} Largest Element in {in_list} is {sorted(in_list, reverse=True)[0:k]}')\n",
        "\n",
        "nLargestEleInList(4)"
      ],
      "metadata": {
        "colab": {
          "base_uri": "https://localhost:8080/"
        },
        "id": "MdZFumNEuCsg",
        "outputId": "9c46a63f-fe4b-4d14-ffa0-d14101c870ca"
      },
      "execution_count": 6,
      "outputs": [
        {
          "output_type": "stream",
          "name": "stdout",
          "text": [
            "Enter the No of elements in a list: 5\n",
            "Enter a Element: 45\n",
            "Enter a Element: 65\n",
            "Enter a Element: 44\n",
            "Enter a Element: 11\n",
            "Enter a Element: 12\n",
            "The 4 Largest Element in [45, 65, 44, 11, 12] is [65, 45, 44, 12]\n"
          ]
        }
      ]
    },
    {
      "cell_type": "markdown",
      "source": [
        "7.Write a Python Program to find even numbers in the list ?\n"
      ],
      "metadata": {
        "id": "RSosIjCEulHC"
      }
    },
    {
      "cell_type": "code",
      "source": [
        "def evenNoInList():\n",
        "    in_ele = int(input('Enter the No of elements in a list: '))\n",
        "    in_list = []\n",
        "    even_list = []\n",
        "    for ele in range(in_ele):\n",
        "        in_list.append(int(input('Enter a Element: ')))\n",
        "    for ele in in_list:\n",
        "        if ele%2 == 0:\n",
        "            even_list.append(ele)\n",
        "    print(f'The Even Elements in {in_list} are {even_list}')\n",
        "\n",
        "evenNoInList()"
      ],
      "metadata": {
        "colab": {
          "base_uri": "https://localhost:8080/"
        },
        "id": "1IgonseLubAu",
        "outputId": "8e806195-174c-4747-cf76-4615dbdc1e05"
      },
      "execution_count": 7,
      "outputs": [
        {
          "output_type": "stream",
          "name": "stdout",
          "text": [
            "Enter the No of elements in a list: 5\n",
            "Enter a Element: 1\n",
            "Enter a Element: 2\n",
            "Enter a Element: 3\n",
            "Enter a Element: 4\n",
            "Enter a Element: 5\n",
            "The Even Elements in [1, 2, 3, 4, 5] are [2, 4]\n"
          ]
        }
      ]
    },
    {
      "cell_type": "markdown",
      "source": [
        "8.Write a Python Program to find odd numbers in the list ?\n"
      ],
      "metadata": {
        "id": "eTO6wDztuwC4"
      }
    },
    {
      "cell_type": "code",
      "source": [
        "def oddNoInList():\n",
        "    in_ele = int(input('Enter the No of elements in a list: '))\n",
        "    in_list = []\n",
        "    odd_list = []\n",
        "    for ele in range(in_ele):\n",
        "        in_list.append(int(input('Enter a Element: ')))\n",
        "    for ele in in_list:\n",
        "        if ele%2 != 0:\n",
        "            odd_list.append(ele)\n",
        "    print(f'The Even Elements in {in_list} are {odd_list}')\n",
        "\n",
        "oddNoInList()"
      ],
      "metadata": {
        "colab": {
          "base_uri": "https://localhost:8080/"
        },
        "id": "grjIaE82upIS",
        "outputId": "fef62b6a-732c-445c-e159-3c5f8e3d450e"
      },
      "execution_count": 8,
      "outputs": [
        {
          "output_type": "stream",
          "name": "stdout",
          "text": [
            "Enter the No of elements in a list: 5\n",
            "Enter a Element: 1\n",
            "Enter a Element: 2\n",
            "Enter a Element: 3\n",
            "Enter a Element: 4\n",
            "Enter a Element: 5\n",
            "The Even Elements in [1, 2, 3, 4, 5] are [1, 3, 5]\n"
          ]
        }
      ]
    },
    {
      "cell_type": "markdown",
      "source": [
        "9.Write a Python Program to remove empty list from list ?\n"
      ],
      "metadata": {
        "id": "WotmljFiuyQp"
      }
    },
    {
      "cell_type": "code",
      "source": [
        "def checkEmptyList():\n",
        "    in_list = eval(input('Enter all elements of the list: '))\n",
        "    if [] in in_list:\n",
        "        print(f'There is an Empty list in {in_list} at Position {in_list.index([])}')\n",
        "        in_list.remove([])\n",
        "        print(f'The List after removing [] is {in_list}')\n",
        "    else:\n",
        "        print(f'There is no [] List in the list {in_list}')\n",
        "        \n",
        "checkEmptyList()"
      ],
      "metadata": {
        "colab": {
          "base_uri": "https://localhost:8080/"
        },
        "id": "S8VB5k-HuyxC",
        "outputId": "dcf01677-108d-4c7c-9a68-fc4dbaa47a63"
      },
      "execution_count": 9,
      "outputs": [
        {
          "output_type": "stream",
          "name": "stdout",
          "text": [
            "Enter all elements of the list: [1,2,3,5,[ ],7,8,9]\n",
            "There is an Empty list in [1, 2, 3, 5, [], 7, 8, 9] at Position 4\n",
            "The List after removing [] is [1, 2, 3, 5, 7, 8, 9]\n"
          ]
        }
      ]
    },
    {
      "cell_type": "markdown",
      "source": [
        "10.Write a Python Program to Cloning or Copying a list ?\n"
      ],
      "metadata": {
        "id": "nVOT8Z3wvG6I"
      }
    },
    {
      "cell_type": "code",
      "source": [
        "import copy\n",
        "\n",
        "def cloneList():\n",
        "    in_list = eval(input('Enter a list'))\n",
        "    print(in_list, id(in_list))\n",
        "    cloned_list = in_list.copy()\n",
        "    print(cloned_list, id(cloned_list))\n",
        "\n",
        "cloneList()"
      ],
      "metadata": {
        "colab": {
          "base_uri": "https://localhost:8080/"
        },
        "id": "EujNTTGZu8bG",
        "outputId": "68e2c20c-6929-4109-b0d9-ae57beb13390"
      },
      "execution_count": 10,
      "outputs": [
        {
          "output_type": "stream",
          "name": "stdout",
          "text": [
            "Enter a list[1,2,3,46,7]\n",
            "[1, 2, 3, 46, 7] 140143369612096\n",
            "[1, 2, 3, 46, 7] 140142900919104\n"
          ]
        }
      ]
    },
    {
      "cell_type": "markdown",
      "source": [
        "11.Write a Python Program to count occurences of an element in a list ?\n"
      ],
      "metadata": {
        "id": "7cS8HEyAvHkP"
      }
    },
    {
      "cell_type": "code",
      "source": [
        "def checkOccurence():\n",
        "    in_list = eval(input('Enter the elements of the list: '))\n",
        "    in_num = eval(input('Enter the element to find: '))\n",
        "    count = 0\n",
        "    if in_num in in_list:\n",
        "        for ele in in_list:\n",
        "            if ele == in_num:\n",
        "                count = count+1\n",
        "    print(f'There are {count} occurences of {in_num} in {in_list}')\n",
        "    \n",
        "checkOccurence()"
      ],
      "metadata": {
        "colab": {
          "base_uri": "https://localhost:8080/"
        },
        "id": "tilQqnBzvIFQ",
        "outputId": "a076b554-5cce-440c-919a-3f74e90b4e71"
      },
      "execution_count": 11,
      "outputs": [
        {
          "output_type": "stream",
          "name": "stdout",
          "text": [
            "Enter the elements of the list: [1,2,35,6,7,9,8,7,6]\n",
            "Enter the element to find: 4\n",
            "There are 0 occurences of 4 in [1, 2, 35, 6, 7, 9, 8, 7, 6]\n"
          ]
        }
      ]
    },
    {
      "cell_type": "code",
      "source": [],
      "metadata": {
        "id": "nw5wBvUuvbgk"
      },
      "execution_count": null,
      "outputs": []
    }
  ]
}